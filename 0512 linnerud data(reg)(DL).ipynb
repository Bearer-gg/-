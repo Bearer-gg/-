{
 "cells": [
  {
   "cell_type": "code",
   "execution_count": 166,
   "id": "cd7881c7",
   "metadata": {},
   "outputs": [],
   "source": [
    "import numpy as np\n",
    "import matplotlib.pyplot as plt\n",
    "import pandas as pd\n",
    "import seaborn as sns\n",
    "from sklearn.datasets import load_linnerud"
   ]
  },
  {
   "cell_type": "code",
   "execution_count": 167,
   "id": "ff87a2d8",
   "metadata": {},
   "outputs": [],
   "source": [
    "import numpy as np\n",
    "import pandas as pd\n",
    "from sklearn.datasets import load_diabetes\n",
    "from sklearn.model_selection import train_test_split\n",
    "from sklearn.metrics import r2_score,mean_squared_error\n",
    "from sklearn.preprocessing import StandardScaler,MinMaxScaler\n",
    "from sklearn.utils import all_estimators\n",
    "import warnings\n",
    "warnings.filterwarnings('ignore')"
   ]
  },
  {
   "cell_type": "code",
   "execution_count": 168,
   "id": "5bd1b96f",
   "metadata": {},
   "outputs": [],
   "source": [
    "linnerud = load_linnerud()"
   ]
  },
  {
   "cell_type": "code",
   "execution_count": 169,
   "id": "daecb6a0",
   "metadata": {},
   "outputs": [
    {
     "data": {
      "text/plain": [
       "{'data': array([[  5., 162.,  60.],\n",
       "        [  2., 110.,  60.],\n",
       "        [ 12., 101., 101.],\n",
       "        [ 12., 105.,  37.],\n",
       "        [ 13., 155.,  58.],\n",
       "        [  4., 101.,  42.],\n",
       "        [  8., 101.,  38.],\n",
       "        [  6., 125.,  40.],\n",
       "        [ 15., 200.,  40.],\n",
       "        [ 17., 251., 250.],\n",
       "        [ 17., 120.,  38.],\n",
       "        [ 13., 210., 115.],\n",
       "        [ 14., 215., 105.],\n",
       "        [  1.,  50.,  50.],\n",
       "        [  6.,  70.,  31.],\n",
       "        [ 12., 210., 120.],\n",
       "        [  4.,  60.,  25.],\n",
       "        [ 11., 230.,  80.],\n",
       "        [ 15., 225.,  73.],\n",
       "        [  2., 110.,  43.]]),\n",
       " 'feature_names': ['Chins', 'Situps', 'Jumps'],\n",
       " 'target': array([[191.,  36.,  50.],\n",
       "        [189.,  37.,  52.],\n",
       "        [193.,  38.,  58.],\n",
       "        [162.,  35.,  62.],\n",
       "        [189.,  35.,  46.],\n",
       "        [182.,  36.,  56.],\n",
       "        [211.,  38.,  56.],\n",
       "        [167.,  34.,  60.],\n",
       "        [176.,  31.,  74.],\n",
       "        [154.,  33.,  56.],\n",
       "        [169.,  34.,  50.],\n",
       "        [166.,  33.,  52.],\n",
       "        [154.,  34.,  64.],\n",
       "        [247.,  46.,  50.],\n",
       "        [193.,  36.,  46.],\n",
       "        [202.,  37.,  62.],\n",
       "        [176.,  37.,  54.],\n",
       "        [157.,  32.,  52.],\n",
       "        [156.,  33.,  54.],\n",
       "        [138.,  33.,  68.]]),\n",
       " 'target_names': ['Weight', 'Waist', 'Pulse'],\n",
       " 'frame': None,\n",
       " 'DESCR': '.. _linnerrud_dataset:\\n\\nLinnerrud dataset\\n-----------------\\n\\n**Data Set Characteristics:**\\n\\n    :Number of Instances: 20\\n    :Number of Attributes: 3\\n    :Missing Attribute Values: None\\n\\nThe Linnerud dataset is a multi-output regression dataset. It consists of three\\nexercise (data) and three physiological (target) variables collected from\\ntwenty middle-aged men in a fitness club:\\n\\n- *physiological* - CSV containing 20 observations on 3 physiological variables:\\n   Weight, Waist and Pulse.\\n- *exercise* - CSV containing 20 observations on 3 exercise variables:\\n   Chins, Situps and Jumps.\\n\\n.. topic:: References\\n\\n  * Tenenhaus, M. (1998). La regression PLS: theorie et pratique. Paris:\\n    Editions Technic.\\n',\n",
       " 'data_filename': 'linnerud_exercise.csv',\n",
       " 'target_filename': 'linnerud_physiological.csv',\n",
       " 'data_module': 'sklearn.datasets.data'}"
      ]
     },
     "execution_count": 169,
     "metadata": {},
     "output_type": "execute_result"
    }
   ],
   "source": [
    "linnerud"
   ]
  },
  {
   "cell_type": "code",
   "execution_count": 170,
   "id": "b9451ac9",
   "metadata": {},
   "outputs": [
    {
     "data": {
      "text/plain": [
       "dict_keys(['data', 'feature_names', 'target', 'target_names', 'frame', 'DESCR', 'data_filename', 'target_filename', 'data_module'])"
      ]
     },
     "execution_count": 170,
     "metadata": {},
     "output_type": "execute_result"
    }
   ],
   "source": [
    "linnerud.keys()"
   ]
  },
  {
   "cell_type": "code",
   "execution_count": 171,
   "id": "1af822a1",
   "metadata": {},
   "outputs": [],
   "source": [
    "df = pd.concat([pd.DataFrame(linnerud.data, columns=linnerud.feature_names),\n",
    "                pd.DataFrame(linnerud.target, columns=linnerud.target_names)],\n",
    "               axis=1)"
   ]
  },
  {
   "cell_type": "code",
   "execution_count": 172,
   "id": "bc3397a2",
   "metadata": {},
   "outputs": [
    {
     "data": {
      "text/html": [
       "<div>\n",
       "<style scoped>\n",
       "    .dataframe tbody tr th:only-of-type {\n",
       "        vertical-align: middle;\n",
       "    }\n",
       "\n",
       "    .dataframe tbody tr th {\n",
       "        vertical-align: top;\n",
       "    }\n",
       "\n",
       "    .dataframe thead th {\n",
       "        text-align: right;\n",
       "    }\n",
       "</style>\n",
       "<table border=\"1\" class=\"dataframe\">\n",
       "  <thead>\n",
       "    <tr style=\"text-align: right;\">\n",
       "      <th></th>\n",
       "      <th>Chins</th>\n",
       "      <th>Situps</th>\n",
       "      <th>Jumps</th>\n",
       "      <th>Weight</th>\n",
       "      <th>Waist</th>\n",
       "      <th>Pulse</th>\n",
       "    </tr>\n",
       "  </thead>\n",
       "  <tbody>\n",
       "    <tr>\n",
       "      <th>0</th>\n",
       "      <td>5.0</td>\n",
       "      <td>162.0</td>\n",
       "      <td>60.0</td>\n",
       "      <td>191.0</td>\n",
       "      <td>36.0</td>\n",
       "      <td>50.0</td>\n",
       "    </tr>\n",
       "    <tr>\n",
       "      <th>1</th>\n",
       "      <td>2.0</td>\n",
       "      <td>110.0</td>\n",
       "      <td>60.0</td>\n",
       "      <td>189.0</td>\n",
       "      <td>37.0</td>\n",
       "      <td>52.0</td>\n",
       "    </tr>\n",
       "    <tr>\n",
       "      <th>2</th>\n",
       "      <td>12.0</td>\n",
       "      <td>101.0</td>\n",
       "      <td>101.0</td>\n",
       "      <td>193.0</td>\n",
       "      <td>38.0</td>\n",
       "      <td>58.0</td>\n",
       "    </tr>\n",
       "    <tr>\n",
       "      <th>3</th>\n",
       "      <td>12.0</td>\n",
       "      <td>105.0</td>\n",
       "      <td>37.0</td>\n",
       "      <td>162.0</td>\n",
       "      <td>35.0</td>\n",
       "      <td>62.0</td>\n",
       "    </tr>\n",
       "    <tr>\n",
       "      <th>4</th>\n",
       "      <td>13.0</td>\n",
       "      <td>155.0</td>\n",
       "      <td>58.0</td>\n",
       "      <td>189.0</td>\n",
       "      <td>35.0</td>\n",
       "      <td>46.0</td>\n",
       "    </tr>\n",
       "  </tbody>\n",
       "</table>\n",
       "</div>"
      ],
      "text/plain": [
       "   Chins  Situps  Jumps  Weight  Waist  Pulse\n",
       "0    5.0   162.0   60.0   191.0   36.0   50.0\n",
       "1    2.0   110.0   60.0   189.0   37.0   52.0\n",
       "2   12.0   101.0  101.0   193.0   38.0   58.0\n",
       "3   12.0   105.0   37.0   162.0   35.0   62.0\n",
       "4   13.0   155.0   58.0   189.0   35.0   46.0"
      ]
     },
     "execution_count": 172,
     "metadata": {},
     "output_type": "execute_result"
    }
   ],
   "source": [
    "df.head()"
   ]
  },
  {
   "cell_type": "code",
   "execution_count": 173,
   "id": "7308f579",
   "metadata": {},
   "outputs": [
    {
     "data": {
      "text/plain": [
       "Chins     0\n",
       "Situps    0\n",
       "Jumps     0\n",
       "Weight    0\n",
       "Waist     0\n",
       "Pulse     0\n",
       "dtype: int64"
      ]
     },
     "execution_count": 173,
     "metadata": {},
     "output_type": "execute_result"
    }
   ],
   "source": [
    "df.isnull().sum()"
   ]
  },
  {
   "cell_type": "code",
   "execution_count": 174,
   "id": "fafb2498",
   "metadata": {},
   "outputs": [
    {
     "data": {
      "text/plain": [
       "<Axes: xlabel='Weight', ylabel='count'>"
      ]
     },
     "execution_count": 174,
     "metadata": {},
     "output_type": "execute_result"
    },
    {
     "data": {
      "image/png": "[encoded data removed]",
      "text/plain": [
       "<Figure size 640x480 with 1 Axes>"
      ]
     },
     "metadata": {},
     "output_type": "display_data"
    }
   ],
   "source": [
    "import seaborn as sns\n",
    "sns.countplot(data=df,x=\"Weight\")"
   ]
  },
  {
   "cell_type": "code",
   "execution_count": 180,
   "id": "505218c3",
   "metadata": {},
   "outputs": [],
   "source": [
    "X = df.drop(['Weight','Waist','Pulse'], axis=1)"
   ]
  },
  {
   "cell_type": "code",
   "execution_count": 181,
   "id": "1f768ec7",
   "metadata": {},
   "outputs": [],
   "source": [
    "y = df['Weight']"
   ]
  },
  {
   "cell_type": "code",
   "execution_count": 182,
   "id": "d98fd135",
   "metadata": {},
   "outputs": [],
   "source": [
    "# 원-핫 인코딩\n",
    "from keras.utils import to_categorical\n",
    "y = to_categorical(y)"
   ]
  },
  {
   "cell_type": "code",
   "execution_count": 183,
   "id": "f5ddda35",
   "metadata": {},
   "outputs": [
    {
     "data": {
      "text/html": [
       "<div>\n",
       "<style scoped>\n",
       "    .dataframe tbody tr th:only-of-type {\n",
       "        vertical-align: middle;\n",
       "    }\n",
       "\n",
       "    .dataframe tbody tr th {\n",
       "        vertical-align: top;\n",
       "    }\n",
       "\n",
       "    .dataframe thead th {\n",
       "        text-align: right;\n",
       "    }\n",
       "</style>\n",
       "<table border=\"1\" class=\"dataframe\">\n",
       "  <thead>\n",
       "    <tr style=\"text-align: right;\">\n",
       "      <th></th>\n",
       "      <th>Chins</th>\n",
       "      <th>Situps</th>\n",
       "      <th>Jumps</th>\n",
       "    </tr>\n",
       "  </thead>\n",
       "  <tbody>\n",
       "    <tr>\n",
       "      <th>0</th>\n",
       "      <td>5.0</td>\n",
       "      <td>162.0</td>\n",
       "      <td>60.0</td>\n",
       "    </tr>\n",
       "    <tr>\n",
       "      <th>1</th>\n",
       "      <td>2.0</td>\n",
       "      <td>110.0</td>\n",
       "      <td>60.0</td>\n",
       "    </tr>\n",
       "    <tr>\n",
       "      <th>2</th>\n",
       "      <td>12.0</td>\n",
       "      <td>101.0</td>\n",
       "      <td>101.0</td>\n",
       "    </tr>\n",
       "    <tr>\n",
       "      <th>3</th>\n",
       "      <td>12.0</td>\n",
       "      <td>105.0</td>\n",
       "      <td>37.0</td>\n",
       "    </tr>\n",
       "    <tr>\n",
       "      <th>4</th>\n",
       "      <td>13.0</td>\n",
       "      <td>155.0</td>\n",
       "      <td>58.0</td>\n",
       "    </tr>\n",
       "  </tbody>\n",
       "</table>\n",
       "</div>"
      ],
      "text/plain": [
       "   Chins  Situps  Jumps\n",
       "0    5.0   162.0   60.0\n",
       "1    2.0   110.0   60.0\n",
       "2   12.0   101.0  101.0\n",
       "3   12.0   105.0   37.0\n",
       "4   13.0   155.0   58.0"
      ]
     },
     "execution_count": 183,
     "metadata": {},
     "output_type": "execute_result"
    }
   ],
   "source": [
    "X.head()"
   ]
  },
  {
   "cell_type": "code",
   "execution_count": 184,
   "id": "71000a40",
   "metadata": {},
   "outputs": [
    {
     "data": {
      "text/plain": [
       "array([[0., 0., 0., ..., 0., 0., 0.],\n",
       "       [0., 0., 0., ..., 0., 0., 0.],\n",
       "       [0., 0., 0., ..., 0., 0., 0.],\n",
       "       ...,\n",
       "       [0., 0., 0., ..., 0., 0., 0.],\n",
       "       [0., 0., 0., ..., 0., 0., 0.],\n",
       "       [0., 0., 0., ..., 0., 0., 0.]], dtype=float32)"
      ]
     },
     "execution_count": 184,
     "metadata": {},
     "output_type": "execute_result"
    }
   ],
   "source": [
    "y"
   ]
  },
  {
   "cell_type": "code",
   "execution_count": 185,
   "id": "f14e67ed",
   "metadata": {},
   "outputs": [],
   "source": [
    "from sklearn.model_selection import train_test_split\n",
    "X_train,X_test, y_train,y_test = train_test_split(X,Y,test_size=0.2,random_state=0)"
   ]
  },
  {
   "cell_type": "code",
   "execution_count": 188,
   "id": "8b0865f5",
   "metadata": {},
   "outputs": [
    {
     "name": "stdout",
     "output_type": "stream",
     "text": [
      "Model: \"sequential_15\"\n",
      "_________________________________________________________________\n",
      " Layer (type)                Output Shape              Param #   \n",
      "=================================================================\n",
      " dense_55 (Dense)            (None, 64)                256       \n",
      "                                                                 \n",
      " dense_56 (Dense)            (None, 32)                2080      \n",
      "                                                                 \n",
      " dense_57 (Dense)            (None, 1)                 33        \n",
      "                                                                 \n",
      "=================================================================\n",
      "Total params: 2,369\n",
      "Trainable params: 2,369\n",
      "Non-trainable params: 0\n",
      "_________________________________________________________________\n"
     ]
    }
   ],
   "source": [
    "from tensorflow.keras.models import Sequential\n",
    "from tensorflow.keras.layers import Dense\n",
    "\n",
    "model = Sequential()\n",
    "model.add(Dense(64, activation = 'relu', input_shape = (3,)))\n",
    "model.add(Dense(32, activation = 'relu'))\n",
    "model.add(Dense(1)) \n",
    "model.compile(optimizer = 'rmsprop', loss = 'mse', metrics = ['mse'])\n",
    "\n",
    "model.summary()"
   ]
  },
  {
   "cell_type": "code",
   "execution_count": 189,
   "id": "9114a364",
   "metadata": {
    "scrolled": false
   },
   "outputs": [
    {
     "name": "stdout",
     "output_type": "stream",
     "text": [
      "Epoch 1/100\n",
      "1/1 [==============================] - 0s 160ms/step - loss: 617.1590 - mse: 617.1590 - val_loss: 184.2410 - val_mse: 184.2410\n",
      "Epoch 2/100\n",
      "1/1 [==============================] - 0s 9ms/step - loss: 200.5758 - mse: 200.5758 - val_loss: 63.3483 - val_mse: 63.3483\n",
      "Epoch 3/100\n",
      "1/1 [==============================] - 0s 8ms/step - loss: 79.8366 - mse: 79.8366 - val_loss: 20.6692 - val_mse: 20.6692\n",
      "Epoch 4/100\n",
      "1/1 [==============================] - 0s 8ms/step - loss: 30.4490 - mse: 30.4490 - val_loss: 4.7519 - val_mse: 4.7519\n",
      "Epoch 5/100\n",
      "1/1 [==============================] - 0s 8ms/step - loss: 10.5258 - mse: 10.5258 - val_loss: 0.5961 - val_mse: 0.5961\n",
      "Epoch 6/100\n",
      "1/1 [==============================] - 0s 10ms/step - loss: 3.5167 - mse: 3.5167 - val_loss: 0.3854 - val_mse: 0.3854\n",
      "Epoch 7/100\n",
      "1/1 [==============================] - 0s 9ms/step - loss: 1.3460 - mse: 1.3460 - val_loss: 0.9409 - val_mse: 0.9409\n",
      "Epoch 8/100\n",
      "1/1 [==============================] - 0s 9ms/step - loss: 0.7218 - mse: 0.7218 - val_loss: 1.3605 - val_mse: 1.3605\n",
      "Epoch 9/100\n",
      "1/1 [==============================] - 0s 9ms/step - loss: 0.5483 - mse: 0.5483 - val_loss: 1.5462 - val_mse: 1.5462\n",
      "Epoch 10/100\n",
      "1/1 [==============================] - 0s 9ms/step - loss: 0.4849 - mse: 0.4849 - val_loss: 1.5956 - val_mse: 1.5956\n",
      "Epoch 11/100\n",
      "1/1 [==============================] - 0s 9ms/step - loss: 0.4481 - mse: 0.4481 - val_loss: 1.5818 - val_mse: 1.5818\n",
      "Epoch 12/100\n",
      "1/1 [==============================] - 0s 10ms/step - loss: 0.4201 - mse: 0.4201 - val_loss: 1.5446 - val_mse: 1.5446\n",
      "Epoch 13/100\n",
      "1/1 [==============================] - 0s 9ms/step - loss: 0.3970 - mse: 0.3970 - val_loss: 1.5022 - val_mse: 1.5022\n",
      "Epoch 14/100\n",
      "1/1 [==============================] - 0s 9ms/step - loss: 0.3778 - mse: 0.3778 - val_loss: 1.4615 - val_mse: 1.4615\n",
      "Epoch 15/100\n",
      "1/1 [==============================] - 0s 8ms/step - loss: 0.3616 - mse: 0.3616 - val_loss: 1.4246 - val_mse: 1.4246\n",
      "Epoch 16/100\n",
      "1/1 [==============================] - 0s 9ms/step - loss: 0.3480 - mse: 0.3480 - val_loss: 1.3921 - val_mse: 1.3921\n",
      "Epoch 17/100\n",
      "1/1 [==============================] - 0s 9ms/step - loss: 0.3364 - mse: 0.3364 - val_loss: 1.3638 - val_mse: 1.3638\n",
      "Epoch 18/100\n",
      "1/1 [==============================] - 0s 9ms/step - loss: 0.3264 - mse: 0.3264 - val_loss: 1.3290 - val_mse: 1.3290\n",
      "Epoch 19/100\n",
      "1/1 [==============================] - 0s 9ms/step - loss: 0.3176 - mse: 0.3176 - val_loss: 1.2868 - val_mse: 1.2868\n",
      "Epoch 20/100\n",
      "1/1 [==============================] - 0s 9ms/step - loss: 0.3096 - mse: 0.3096 - val_loss: 1.2481 - val_mse: 1.2481\n",
      "Epoch 21/100\n",
      "1/1 [==============================] - 0s 9ms/step - loss: 0.3023 - mse: 0.3023 - val_loss: 1.2119 - val_mse: 1.2119\n",
      "Epoch 22/100\n",
      "1/1 [==============================] - 0s 9ms/step - loss: 0.2955 - mse: 0.2955 - val_loss: 1.1788 - val_mse: 1.1788\n",
      "Epoch 23/100\n",
      "1/1 [==============================] - 0s 9ms/step - loss: 0.2885 - mse: 0.2885 - val_loss: 1.1483 - val_mse: 1.1483\n",
      "Epoch 24/100\n",
      "1/1 [==============================] - 0s 9ms/step - loss: 0.2819 - mse: 0.2819 - val_loss: 1.1202 - val_mse: 1.1202\n",
      "Epoch 25/100\n",
      "1/1 [==============================] - 0s 9ms/step - loss: 0.2755 - mse: 0.2755 - val_loss: 1.0940 - val_mse: 1.0940\n",
      "Epoch 26/100\n",
      "1/1 [==============================] - 0s 9ms/step - loss: 0.2691 - mse: 0.2691 - val_loss: 1.0687 - val_mse: 1.0687\n",
      "Epoch 27/100\n",
      "1/1 [==============================] - 0s 9ms/step - loss: 0.2627 - mse: 0.2627 - val_loss: 1.0445 - val_mse: 1.0445\n",
      "Epoch 28/100\n",
      "1/1 [==============================] - 0s 10ms/step - loss: 0.2563 - mse: 0.2563 - val_loss: 1.0214 - val_mse: 1.0214\n",
      "Epoch 29/100\n",
      "1/1 [==============================] - 0s 10ms/step - loss: 0.2496 - mse: 0.2496 - val_loss: 1.0019 - val_mse: 1.0019\n",
      "Epoch 30/100\n",
      "1/1 [==============================] - 0s 9ms/step - loss: 0.2428 - mse: 0.2428 - val_loss: 0.9811 - val_mse: 0.9811\n",
      "Epoch 31/100\n",
      "1/1 [==============================] - 0s 9ms/step - loss: 0.2360 - mse: 0.2360 - val_loss: 0.9622 - val_mse: 0.9622\n",
      "Epoch 32/100\n",
      "1/1 [==============================] - 0s 9ms/step - loss: 0.2292 - mse: 0.2292 - val_loss: 0.9423 - val_mse: 0.9423\n",
      "Epoch 33/100\n",
      "1/1 [==============================] - 0s 11ms/step - loss: 0.2223 - mse: 0.2223 - val_loss: 0.9239 - val_mse: 0.9239\n",
      "Epoch 34/100\n",
      "1/1 [==============================] - 0s 10ms/step - loss: 0.2155 - mse: 0.2155 - val_loss: 0.9043 - val_mse: 0.9043\n",
      "Epoch 35/100\n",
      "1/1 [==============================] - 0s 9ms/step - loss: 0.2086 - mse: 0.2086 - val_loss: 0.8863 - val_mse: 0.8863\n",
      "Epoch 36/100\n",
      "1/1 [==============================] - 0s 10ms/step - loss: 0.2017 - mse: 0.2017 - val_loss: 0.8664 - val_mse: 0.8664\n",
      "Epoch 37/100\n",
      "1/1 [==============================] - 0s 9ms/step - loss: 0.1948 - mse: 0.1948 - val_loss: 0.8494 - val_mse: 0.8494\n",
      "Epoch 38/100\n",
      "1/1 [==============================] - 0s 9ms/step - loss: 0.1883 - mse: 0.1883 - val_loss: 0.8292 - val_mse: 0.8292\n",
      "Epoch 39/100\n",
      "1/1 [==============================] - 0s 9ms/step - loss: 0.1821 - mse: 0.1821 - val_loss: 0.8115 - val_mse: 0.8115\n",
      "Epoch 40/100\n",
      "1/1 [==============================] - 0s 9ms/step - loss: 0.1762 - mse: 0.1762 - val_loss: 0.7896 - val_mse: 0.7896\n",
      "Epoch 41/100\n",
      "1/1 [==============================] - 0s 9ms/step - loss: 0.1706 - mse: 0.1706 - val_loss: 0.7853 - val_mse: 0.7853\n",
      "Epoch 42/100\n",
      "1/1 [==============================] - 0s 9ms/step - loss: 0.1651 - mse: 0.1651 - val_loss: 0.7419 - val_mse: 0.7419\n",
      "Epoch 43/100\n",
      "1/1 [==============================] - 0s 9ms/step - loss: 0.1599 - mse: 0.1599 - val_loss: 0.7938 - val_mse: 0.7938\n",
      "Epoch 44/100\n",
      "1/1 [==============================] - 0s 9ms/step - loss: 0.1554 - mse: 0.1554 - val_loss: 0.6069 - val_mse: 0.6069\n",
      "Epoch 45/100\n",
      "1/1 [==============================] - 0s 9ms/step - loss: 0.1564 - mse: 0.1564 - val_loss: 1.1556 - val_mse: 1.1556\n",
      "Epoch 46/100\n",
      "1/1 [==============================] - 0s 9ms/step - loss: 0.2039 - mse: 0.2039 - val_loss: 0.2463 - val_mse: 0.2463\n",
      "Epoch 47/100\n",
      "1/1 [==============================] - 0s 9ms/step - loss: 0.7017 - mse: 0.7017 - val_loss: 9.5070 - val_mse: 9.5070\n",
      "Epoch 48/100\n",
      "1/1 [==============================] - 0s 9ms/step - loss: 5.1125 - mse: 5.1125 - val_loss: 16.1593 - val_mse: 16.1593\n",
      "Epoch 49/100\n",
      "1/1 [==============================] - 0s 9ms/step - loss: 18.7132 - mse: 18.7132 - val_loss: 19.3503 - val_mse: 19.3503\n",
      "Epoch 50/100\n",
      "1/1 [==============================] - 0s 9ms/step - loss: 11.7972 - mse: 11.7972 - val_loss: 2.7764 - val_mse: 2.7764\n",
      "Epoch 51/100\n",
      "1/1 [==============================] - 0s 10ms/step - loss: 4.4917 - mse: 4.4917 - val_loss: 3.7935 - val_mse: 3.7935\n",
      "Epoch 52/100\n",
      "1/1 [==============================] - 0s 9ms/step - loss: 1.3674 - mse: 1.3674 - val_loss: 0.2288 - val_mse: 0.2288\n",
      "Epoch 53/100\n",
      "1/1 [==============================] - 0s 9ms/step - loss: 0.5771 - mse: 0.5771 - val_loss: 1.5908 - val_mse: 1.5908\n",
      "Epoch 54/100\n",
      "1/1 [==============================] - 0s 9ms/step - loss: 0.3254 - mse: 0.3254 - val_loss: 0.3059 - val_mse: 0.3059\n",
      "Epoch 55/100\n",
      "1/1 [==============================] - 0s 9ms/step - loss: 0.2356 - mse: 0.2356 - val_loss: 1.1933 - val_mse: 1.1933\n",
      "Epoch 56/100\n",
      "1/1 [==============================] - 0s 9ms/step - loss: 0.1993 - mse: 0.1993 - val_loss: 0.3433 - val_mse: 0.3433\n",
      "Epoch 57/100\n",
      "1/1 [==============================] - 0s 9ms/step - loss: 0.1884 - mse: 0.1884 - val_loss: 1.1667 - val_mse: 1.1667\n",
      "Epoch 58/100\n",
      "1/1 [==============================] - 0s 10ms/step - loss: 0.1942 - mse: 0.1942 - val_loss: 0.2924 - val_mse: 0.2924\n",
      "Epoch 59/100\n",
      "1/1 [==============================] - 0s 9ms/step - loss: 0.2218 - mse: 0.2218 - val_loss: 1.4486 - val_mse: 1.4486\n",
      "Epoch 60/100\n",
      "1/1 [==============================] - 0s 9ms/step - loss: 0.2899 - mse: 0.2899 - val_loss: 0.2144 - val_mse: 0.2144\n",
      "Epoch 61/100\n",
      "1/1 [==============================] - 0s 9ms/step - loss: 0.4547 - mse: 0.4547 - val_loss: 2.7067 - val_mse: 2.7067\n",
      "Epoch 62/100\n",
      "1/1 [==============================] - 0s 9ms/step - loss: 0.8651 - mse: 0.8651 - val_loss: 0.9225 - val_mse: 0.9225\n",
      "Epoch 63/100\n",
      "1/1 [==============================] - 0s 9ms/step - loss: 1.9116 - mse: 1.9116 - val_loss: 8.1427 - val_mse: 8.1427\n"
     ]
    },
    {
     "name": "stdout",
     "output_type": "stream",
     "text": [
      "Epoch 64/100\n",
      "1/1 [==============================] - 0s 9ms/step - loss: 4.1900 - mse: 4.1900 - val_loss: 5.4222 - val_mse: 5.4222\n",
      "Epoch 65/100\n",
      "1/1 [==============================] - 0s 10ms/step - loss: 7.1594 - mse: 7.1594 - val_loss: 12.6079 - val_mse: 12.6079\n",
      "Epoch 66/100\n",
      "1/1 [==============================] - 0s 9ms/step - loss: 7.3113 - mse: 7.3113 - val_loss: 3.6520 - val_mse: 3.6520\n",
      "Epoch 67/100\n",
      "1/1 [==============================] - 0s 9ms/step - loss: 5.1984 - mse: 5.1984 - val_loss: 6.1292 - val_mse: 6.1292\n",
      "Epoch 68/100\n",
      "1/1 [==============================] - 0s 9ms/step - loss: 2.9327 - mse: 2.9327 - val_loss: 0.8667 - val_mse: 0.8667\n",
      "Epoch 69/100\n",
      "1/1 [==============================] - 0s 9ms/step - loss: 1.7645 - mse: 1.7645 - val_loss: 3.1377 - val_mse: 3.1377\n",
      "Epoch 70/100\n",
      "1/1 [==============================] - 0s 9ms/step - loss: 1.1529 - mse: 1.1529 - val_loss: 0.3511 - val_mse: 0.3511\n",
      "Epoch 71/100\n",
      "1/1 [==============================] - 0s 9ms/step - loss: 0.8811 - mse: 0.8811 - val_loss: 2.3853 - val_mse: 2.3853\n",
      "Epoch 72/100\n",
      "1/1 [==============================] - 0s 10ms/step - loss: 0.7666 - mse: 0.7666 - val_loss: 0.3088 - val_mse: 0.3088\n",
      "Epoch 73/100\n",
      "1/1 [==============================] - 0s 9ms/step - loss: 0.7734 - mse: 0.7734 - val_loss: 2.5705 - val_mse: 2.5705\n",
      "Epoch 74/100\n",
      "1/1 [==============================] - 0s 9ms/step - loss: 0.8773 - mse: 0.8773 - val_loss: 0.4967 - val_mse: 0.4967\n",
      "Epoch 75/100\n",
      "1/1 [==============================] - 0s 9ms/step - loss: 1.1275 - mse: 1.1275 - val_loss: 3.7716 - val_mse: 3.7716\n",
      "Epoch 76/100\n",
      "1/1 [==============================] - 0s 9ms/step - loss: 1.5716 - mse: 1.5716 - val_loss: 1.3391 - val_mse: 1.3391\n",
      "Epoch 77/100\n",
      "1/1 [==============================] - 0s 9ms/step - loss: 2.3198 - mse: 2.3198 - val_loss: 6.4596 - val_mse: 6.4596\n",
      "Epoch 78/100\n",
      "1/1 [==============================] - 0s 9ms/step - loss: 3.2827 - mse: 3.2827 - val_loss: 2.9303 - val_mse: 2.9303\n",
      "Epoch 79/100\n",
      "1/1 [==============================] - 0s 9ms/step - loss: 4.1988 - mse: 4.1988 - val_loss: 7.9625 - val_mse: 7.9625\n",
      "Epoch 80/100\n",
      "1/1 [==============================] - 0s 9ms/step - loss: 4.3252 - mse: 4.3252 - val_loss: 2.7232 - val_mse: 2.7232\n",
      "Epoch 81/100\n",
      "1/1 [==============================] - 0s 9ms/step - loss: 3.9406 - mse: 3.9406 - val_loss: 6.0044 - val_mse: 6.0044\n",
      "Epoch 82/100\n",
      "1/1 [==============================] - 0s 9ms/step - loss: 3.0269 - mse: 3.0269 - val_loss: 1.3919 - val_mse: 1.3919\n",
      "Epoch 83/100\n",
      "1/1 [==============================] - 0s 9ms/step - loss: 2.3475 - mse: 2.3475 - val_loss: 4.1030 - val_mse: 4.1030\n",
      "Epoch 84/100\n",
      "1/1 [==============================] - 0s 11ms/step - loss: 1.8254 - mse: 1.8254 - val_loss: 0.8018 - val_mse: 0.8018\n",
      "Epoch 85/100\n",
      "1/1 [==============================] - 0s 11ms/step - loss: 1.5473 - mse: 1.5473 - val_loss: 3.3710 - val_mse: 3.3710\n",
      "Epoch 86/100\n",
      "1/1 [==============================] - 0s 12ms/step - loss: 1.3972 - mse: 1.3972 - val_loss: 0.7084 - val_mse: 0.7084\n",
      "Epoch 87/100\n",
      "1/1 [==============================] - 0s 11ms/step - loss: 1.3987 - mse: 1.3987 - val_loss: 3.5081 - val_mse: 3.5081\n",
      "Epoch 88/100\n",
      "1/1 [==============================] - 0s 9ms/step - loss: 1.4914 - mse: 1.4914 - val_loss: 0.9483 - val_mse: 0.9483\n",
      "Epoch 89/100\n",
      "1/1 [==============================] - 0s 9ms/step - loss: 1.7098 - mse: 1.7098 - val_loss: 4.3409 - val_mse: 4.3409\n",
      "Epoch 90/100\n",
      "1/1 [==============================] - 0s 9ms/step - loss: 2.0180 - mse: 2.0180 - val_loss: 1.5296 - val_mse: 1.5296\n",
      "Epoch 91/100\n",
      "1/1 [==============================] - 0s 9ms/step - loss: 2.4370 - mse: 2.4370 - val_loss: 5.5603 - val_mse: 5.5603\n",
      "Epoch 92/100\n",
      "1/1 [==============================] - 0s 8ms/step - loss: 2.8111 - mse: 2.8111 - val_loss: 2.1453 - val_mse: 2.1453\n",
      "Epoch 93/100\n",
      "1/1 [==============================] - 0s 9ms/step - loss: 3.1482 - mse: 3.1482 - val_loss: 6.0189 - val_mse: 6.0189\n",
      "Epoch 94/100\n",
      "1/1 [==============================] - 0s 9ms/step - loss: 3.1328 - mse: 3.1328 - val_loss: 1.9838 - val_mse: 1.9838\n",
      "Epoch 95/100\n",
      "1/1 [==============================] - 0s 9ms/step - loss: 2.9472 - mse: 2.9472 - val_loss: 5.1775 - val_mse: 5.1775\n",
      "Epoch 96/100\n",
      "1/1 [==============================] - 0s 9ms/step - loss: 2.5812 - mse: 2.5812 - val_loss: 1.4262 - val_mse: 1.4262\n",
      "Epoch 97/100\n",
      "1/1 [==============================] - 0s 9ms/step - loss: 2.2700 - mse: 2.2700 - val_loss: 4.2421 - val_mse: 4.2421\n",
      "Epoch 98/100\n",
      "1/1 [==============================] - 0s 9ms/step - loss: 1.9850 - mse: 1.9850 - val_loss: 1.0813 - val_mse: 1.0813\n",
      "Epoch 99/100\n",
      "1/1 [==============================] - 0s 9ms/step - loss: 1.8233 - mse: 1.8233 - val_loss: 3.8214 - val_mse: 3.8214\n",
      "Epoch 100/100\n",
      "1/1 [==============================] - 0s 9ms/step - loss: 1.7432 - mse: 1.7432 - val_loss: 1.0659 - val_mse: 1.0659\n"
     ]
    }
   ],
   "source": [
    "N_EPOCHS = 100\n",
    "history = model.fit(X_train, y_train, epochs = N_EPOCHS, validation_data=(X_test, y_test))"
   ]
  },
  {
   "cell_type": "code",
   "execution_count": 190,
   "id": "759f5264",
   "metadata": {},
   "outputs": [
    {
     "name": "stdout",
     "output_type": "stream",
     "text": [
      "1/1 [==============================] - 0s 16ms/step - loss: 1.0659 - mse: 1.0659\n"
     ]
    }
   ],
   "source": [
    "test_mse_score, test_mae_score = model.evaluate(X_test, y_test)"
   ]
  },
  {
   "cell_type": "code",
   "execution_count": 191,
   "id": "234c98f0",
   "metadata": {},
   "outputs": [
    {
     "data": {
      "text/plain": [
       "1.0658795833587646"
      ]
     },
     "execution_count": 191,
     "metadata": {},
     "output_type": "execute_result"
    }
   ],
   "source": [
    "test_mse_score"
   ]
  },
  {
   "cell_type": "code",
   "execution_count": 192,
   "id": "f645cc78",
   "metadata": {},
   "outputs": [
    {
     "data": {
      "image/png": "[encoded data removed]",
      "text/plain": [
       "<Figure size 1000x700 with 1 Axes>"
      ]
     },
     "metadata": {},
     "output_type": "display_data"
    }
   ],
   "source": [
    "import matplotlib.pyplot as plt\n",
    "plt.figure(figsize=(10,7))\n",
    "plt.plot(range(N_EPOCHS), history.history['loss'], label='train loss')\n",
    "plt.plot(range(N_EPOCHS), history.history['val_loss'], label='test loss')\n",
    "plt.xlabel('Epoch')\n",
    "plt.ylabel('Loss')\n",
    "plt.legend()\n",
    "plt.show()"
   ]
  },
  {
   "cell_type": "code",
   "execution_count": 193,
   "id": "cccd4f8d",
   "metadata": {},
   "outputs": [
    {
     "data": {
      "image/png": "[encoded data removed]",
      "text/plain": [
       "<Figure size 1000x700 with 1 Axes>"
      ]
     },
     "metadata": {},
     "output_type": "display_data"
    }
   ],
   "source": [
    "import matplotlib.pyplot as plt\n",
    "plt.figure(figsize=(10,7))\n",
    "plt.plot(range(N_EPOCHS), history.history['mse'], label='mse')\n",
    "plt.plot(range(N_EPOCHS), history.history['val_mse'], label='test mse')\n",
    "plt.xlabel('Epoch')\n",
    "plt.ylabel('Loss')\n",
    "plt.legend()\n",
    "plt.show()"
   ]
  },
  {
   "cell_type": "code",
   "execution_count": null,
   "id": "0fff097d",
   "metadata": {},
   "outputs": [],
   "source": []
  }
 ],
 "metadata": {
  "kernelspec": {
   "display_name": "Python 3 (ipykernel)",
   "language": "python",
   "name": "python3"
  },
  "language_info": {
   "codemirror_mode": {
    "name": "ipython",
    "version": 3
   },
   "file_extension": ".py",
   "mimetype": "text/x-python",
   "name": "python",
   "nbconvert_exporter": "python",
   "pygments_lexer": "ipython3",
   "version": "3.8.16"
  }
 },
 "nbformat": 4,
 "nbformat_minor": 5
}
