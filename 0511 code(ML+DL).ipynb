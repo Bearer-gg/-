{
 "cells": [
  {
   "cell_type": "code",
   "execution_count": 130,
   "id": "a48b8db0",
   "metadata": {},
   "outputs": [
    {
     "data": {
      "text/plain": [
       "<matplotlib.image.AxesImage at 0x28c574c70>"
      ]
     },
     "execution_count": 130,
     "metadata": {},
     "output_type": "execute_result"
    },
    {
     "data": {
      "image/png": "[encoded data removed]",
      "text/plain": [
       "<Figure size 640x480 with 1 Axes>"
      ]
     },
     "metadata": {},
     "output_type": "display_data"
    }
   ],
   "source": [
    "import matplotlib.pyplot as plt\n",
    "from sklearn import datasets, metrics\n",
    "from sklearn.model_selection import train_test_split\n",
    "from sklearn.linear_model import LogisticRegression\n",
    "import warnings\n",
    "warnings.filterwarnings('ignore')\n",
    "\n",
    "digits = datasets.load_digits()\n",
    "plt.imshow(digits.images[0], cmap=plt.cm.gray_r, interpolation='nearest')"
   ]
  },
  {
   "cell_type": "code",
   "execution_count": 131,
   "id": "39c103de",
   "metadata": {},
   "outputs": [],
   "source": [
    "n_samples = len(digits.images)\n",
    "\n",
    "data = digits.images.reshape((n_samples, -1))"
   ]
  },
  {
   "cell_type": "code",
   "execution_count": 132,
   "id": "1489bb7e",
   "metadata": {},
   "outputs": [],
   "source": [
    "X_train, X_test, y_train, y_test = train_test_split(data, digits.target, test_size=0.2)"
   ]
  },
  {
   "cell_type": "code",
   "execution_count": 133,
   "id": "7cf39a4d",
   "metadata": {},
   "outputs": [
    {
     "name": "stdout",
     "output_type": "stream",
     "text": [
      "X train : (1437, 64)\n",
      "y train : (1437,)\n",
      "X test : (360, 64)\n",
      "y test : (360,)\n"
     ]
    }
   ],
   "source": [
    "print(\"X train :\", X_train.shape)\n",
    "print(\"y train :\", y_train.shape)\n",
    "print(\"X test :\", X_test.shape)\n",
    "print(\"y test :\", y_test.shape)"
   ]
  },
  {
   "cell_type": "code",
   "execution_count": 134,
   "id": "18454aa8",
   "metadata": {},
   "outputs": [
    {
     "name": "stdout",
     "output_type": "stream",
     "text": [
      "\n",
      "--- SVM Classifier ---\n",
      "0.9916666666666667\n",
      "[[41  0  0  0  0  0  0  0  0  0]\n",
      " [ 0 37  0  0  0  0  0  0  0  0]\n",
      " [ 0  0 30  0  0  0  0  0  0  0]\n",
      " [ 0  0  0 35  0  0  0  0  0  0]\n",
      " [ 0  0  0  0 33  0  0  0  1  0]\n",
      " [ 0  0  0  0  0 38  0  0  0  0]\n",
      " [ 0  0  0  0  0  0 32  0  0  0]\n",
      " [ 0  0  0  0  0  0  0 37  0  0]\n",
      " [ 0  0  0  0  0  0  0  0 33  1]\n",
      " [ 0  0  0  0  0  0  0  1  0 41]]\n"
     ]
    }
   ],
   "source": [
    "from sklearn.svm import SVC\n",
    "\n",
    "clf_svm = SVC(random_state=0)\n",
    "clf_svm.fit(X_train, y_train)\n",
    "\n",
    "pred_svm = clf_svm.predict(X_test)\n",
    "\n",
    "print(\"\\n--- SVM Classifier ---\")\n",
    "print(accuracy_score(y_test, pred_svm))\n",
    "print(confusion_matrix(y_test, pred_svm))"
   ]
  },
  {
   "cell_type": "code",
   "execution_count": 135,
   "id": "c1d39ae9",
   "metadata": {},
   "outputs": [
    {
     "name": "stdout",
     "output_type": "stream",
     "text": [
      "\n",
      "--- Logistic Regression Classifier ---\n",
      "0.9555555555555556\n",
      "[[40  0  0  0  0  1  0  0  0  0]\n",
      " [ 0 35  0  0  0  0  0  0  2  0]\n",
      " [ 0  0 30  0  0  0  0  0  0  0]\n",
      " [ 0  0  0 35  0  0  0  0  0  0]\n",
      " [ 1  0  0  0 33  0  0  0  0  0]\n",
      " [ 0  1  1  0  0 33  0  2  0  1]\n",
      " [ 0  0  0  0  0  1 30  0  1  0]\n",
      " [ 0  0  0  0  0  0  0 36  1  0]\n",
      " [ 0  2  1  0  0  0  0  0 31  0]\n",
      " [ 0  0  0  0  0  0  0  0  1 41]]\n"
     ]
    }
   ],
   "source": [
    "clf_lr = LogisticRegression(random_state=0)\n",
    "clf_lr.fit(X_train, y_train)\n",
    "\n",
    "pred_lr = clf_lr.predict(X_test)\n",
    "print (\"\\n--- Logistic Regression Classifier ---\")\n",
    "print (accuracy_score(y_test, pred_lr))\n",
    "print (confusion_matrix(y_test, pred_lr))"
   ]
  },
  {
   "cell_type": "code",
   "execution_count": 136,
   "id": "893ecf80",
   "metadata": {},
   "outputs": [
    {
     "name": "stdout",
     "output_type": "stream",
     "text": [
      "\n",
      "--- Decision Tree Classifier ---\n",
      "0.8194444444444444\n",
      "[[39  0  0  0  2  0  0  0  0  0]\n",
      " [ 0 25  0  0  3  0  0  0  8  1]\n",
      " [ 1  1 23  1  1  0  0  2  1  0]\n",
      " [ 0  1  3 27  0  0  0  1  1  2]\n",
      " [ 0  0  0  2 27  0  2  1  1  1]\n",
      " [ 0  0  0  1  1 35  0  0  0  1]\n",
      " [ 2  1  1  0  1  0 27  0  0  0]\n",
      " [ 0  1  1  1  2  0  0 31  0  1]\n",
      " [ 0  2  1  3  1  1  0  0 26  0]\n",
      " [ 1  2  0  0  0  3  0  1  0 35]]\n"
     ]
    }
   ],
   "source": [
    "clf_dt = DecisionTreeClassifier(random_state=0)\n",
    "clf_dt.fit(X_train, y_train)\n",
    "\n",
    "pred_dt = clf_dt.predict(X_test)\n",
    "\n",
    "print (\"\\n--- Decision Tree Classifier ---\")\n",
    "print (accuracy_score(y_test, pred_dt))\n",
    "print (confusion_matrix(y_test, pred_dt))"
   ]
  },
  {
   "cell_type": "code",
   "execution_count": 137,
   "id": "d0801165",
   "metadata": {},
   "outputs": [
    {
     "name": "stdout",
     "output_type": "stream",
     "text": [
      "Model: \"sequential_8\"\n",
      "_________________________________________________________________\n",
      " Layer (type)                Output Shape              Param #   \n",
      "=================================================================\n",
      " dense_40 (Dense)            (None, 50)                3250      \n",
      "                                                                 \n",
      " dense_41 (Dense)            (None, 40)                2040      \n",
      "                                                                 \n",
      " dense_42 (Dense)            (None, 30)                1230      \n",
      "                                                                 \n",
      " dense_43 (Dense)            (None, 10)                310       \n",
      "                                                                 \n",
      "=================================================================\n",
      "Total params: 6,830\n",
      "Trainable params: 6,830\n",
      "Non-trainable params: 0\n",
      "_________________________________________________________________\n"
     ]
    }
   ],
   "source": [
    "from keras.models import Sequential\n",
    "from keras.layers import Dense\n",
    "from keras.optimizers import SGD,Adam\n",
    "\n",
    "from keras.utils import to_categorical\n",
    "\n",
    "y_train = to_categorical(y_train)\n",
    "y_test = to_categorical(y_test)\n",
    "\n",
    "model = Sequential()\n",
    "\n",
    "model.add(Dense(50,input_shape=(64,),activation='sigmoid'))\n",
    "model.add(Dense(40,activation='sigmoid'))\n",
    "model.add(Dense(30,activation='sigmoid'))\n",
    "model.add(Dense(10,activation='softmax'))\n",
    "\n",
    "model.compile(Adam(lr=0.04),'categorical_crossentropy',metrics=['accuracy'])\n",
    "\n",
    "model.summary()"
   ]
  },
  {
   "cell_type": "code",
   "execution_count": 138,
   "id": "bbb487f9",
   "metadata": {},
   "outputs": [
    {
     "name": "stdout",
     "output_type": "stream",
     "text": [
      "Epoch 1/100\n",
      "45/45 [==============================] - 0s 2ms/step - loss: 2.0067 - accuracy: 0.2839 - val_loss: 1.5615 - val_accuracy: 0.4750\n",
      "Epoch 2/100\n",
      "45/45 [==============================] - 0s 625us/step - loss: 1.0364 - accuracy: 0.6409 - val_loss: 0.8708 - val_accuracy: 0.7250\n",
      "Epoch 3/100\n",
      "45/45 [==============================] - 0s 665us/step - loss: 0.7043 - accuracy: 0.7731 - val_loss: 0.8487 - val_accuracy: 0.7361\n",
      "Epoch 4/100\n",
      "45/45 [==============================] - 0s 668us/step - loss: 0.6410 - accuracy: 0.7843 - val_loss: 0.8103 - val_accuracy: 0.7389\n",
      "Epoch 5/100\n",
      "45/45 [==============================] - 0s 659us/step - loss: 0.5783 - accuracy: 0.8225 - val_loss: 0.6593 - val_accuracy: 0.8250\n",
      "Epoch 6/100\n",
      "45/45 [==============================] - 0s 647us/step - loss: 0.6502 - accuracy: 0.7801 - val_loss: 0.7165 - val_accuracy: 0.7806\n",
      "Epoch 7/100\n",
      "45/45 [==============================] - 0s 648us/step - loss: 0.5941 - accuracy: 0.7954 - val_loss: 0.6518 - val_accuracy: 0.8000\n",
      "Epoch 8/100\n",
      "45/45 [==============================] - 0s 654us/step - loss: 0.5624 - accuracy: 0.8337 - val_loss: 0.6727 - val_accuracy: 0.8306\n",
      "Epoch 9/100\n",
      "45/45 [==============================] - 0s 650us/step - loss: 0.5444 - accuracy: 0.8330 - val_loss: 0.6099 - val_accuracy: 0.8028\n",
      "Epoch 10/100\n",
      "45/45 [==============================] - 0s 660us/step - loss: 0.5097 - accuracy: 0.8232 - val_loss: 0.5287 - val_accuracy: 0.8500\n",
      "Epoch 11/100\n",
      "45/45 [==============================] - 0s 665us/step - loss: 0.3516 - accuracy: 0.8852 - val_loss: 0.4851 - val_accuracy: 0.8500\n",
      "Epoch 12/100\n",
      "45/45 [==============================] - 0s 682us/step - loss: 0.3900 - accuracy: 0.8747 - val_loss: 0.5178 - val_accuracy: 0.8444\n",
      "Epoch 13/100\n",
      "45/45 [==============================] - 0s 675us/step - loss: 0.4025 - accuracy: 0.8782 - val_loss: 0.4557 - val_accuracy: 0.8917\n",
      "Epoch 14/100\n",
      "45/45 [==============================] - 0s 672us/step - loss: 0.4201 - accuracy: 0.8657 - val_loss: 0.5678 - val_accuracy: 0.8361\n",
      "Epoch 15/100\n",
      "45/45 [==============================] - 0s 686us/step - loss: 0.3804 - accuracy: 0.8754 - val_loss: 0.5474 - val_accuracy: 0.8500\n",
      "Epoch 16/100\n",
      "45/45 [==============================] - 0s 683us/step - loss: 0.3406 - accuracy: 0.8914 - val_loss: 0.5128 - val_accuracy: 0.8500\n",
      "Epoch 17/100\n",
      "45/45 [==============================] - 0s 689us/step - loss: 0.4261 - accuracy: 0.8671 - val_loss: 0.4854 - val_accuracy: 0.8639\n",
      "Epoch 18/100\n",
      "45/45 [==============================] - 0s 667us/step - loss: 0.3367 - accuracy: 0.8873 - val_loss: 0.4000 - val_accuracy: 0.8694\n",
      "Epoch 19/100\n",
      "45/45 [==============================] - 0s 677us/step - loss: 0.3322 - accuracy: 0.9026 - val_loss: 0.5062 - val_accuracy: 0.8500\n",
      "Epoch 20/100\n",
      "45/45 [==============================] - 0s 662us/step - loss: 0.4439 - accuracy: 0.8608 - val_loss: 0.4768 - val_accuracy: 0.8361\n",
      "Epoch 21/100\n",
      "45/45 [==============================] - 0s 692us/step - loss: 0.3340 - accuracy: 0.8859 - val_loss: 0.4285 - val_accuracy: 0.8750\n",
      "Epoch 22/100\n",
      "45/45 [==============================] - 0s 671us/step - loss: 0.3515 - accuracy: 0.8880 - val_loss: 0.4318 - val_accuracy: 0.8389\n",
      "Epoch 23/100\n",
      "45/45 [==============================] - 0s 688us/step - loss: 0.4125 - accuracy: 0.8706 - val_loss: 0.4327 - val_accuracy: 0.8528\n",
      "Epoch 24/100\n",
      "45/45 [==============================] - 0s 673us/step - loss: 0.4649 - accuracy: 0.8532 - val_loss: 0.5500 - val_accuracy: 0.8333\n",
      "Epoch 25/100\n",
      "45/45 [==============================] - 0s 691us/step - loss: 0.3692 - accuracy: 0.8928 - val_loss: 0.4267 - val_accuracy: 0.8861\n",
      "Epoch 26/100\n",
      "45/45 [==============================] - 0s 709us/step - loss: 0.3008 - accuracy: 0.9102 - val_loss: 0.3122 - val_accuracy: 0.9056\n",
      "Epoch 27/100\n",
      "45/45 [==============================] - 0s 994us/step - loss: 0.3235 - accuracy: 0.9012 - val_loss: 0.7234 - val_accuracy: 0.8389\n",
      "Epoch 28/100\n",
      "45/45 [==============================] - 0s 679us/step - loss: 0.3628 - accuracy: 0.8803 - val_loss: 0.3651 - val_accuracy: 0.8917\n",
      "Epoch 29/100\n",
      "45/45 [==============================] - 0s 677us/step - loss: 0.4332 - accuracy: 0.8594 - val_loss: 0.3924 - val_accuracy: 0.8917\n",
      "Epoch 30/100\n",
      "45/45 [==============================] - 0s 678us/step - loss: 0.3878 - accuracy: 0.8727 - val_loss: 0.4174 - val_accuracy: 0.8944\n",
      "Epoch 31/100\n",
      "45/45 [==============================] - 0s 669us/step - loss: 0.3211 - accuracy: 0.8914 - val_loss: 0.4982 - val_accuracy: 0.8222\n",
      "Epoch 32/100\n",
      "45/45 [==============================] - 0s 719us/step - loss: 0.3913 - accuracy: 0.8720 - val_loss: 0.4254 - val_accuracy: 0.8861\n",
      "Epoch 33/100\n",
      "45/45 [==============================] - 0s 674us/step - loss: 0.2928 - accuracy: 0.9054 - val_loss: 0.3761 - val_accuracy: 0.8806\n",
      "Epoch 34/100\n",
      "45/45 [==============================] - 0s 698us/step - loss: 0.3142 - accuracy: 0.9033 - val_loss: 0.4556 - val_accuracy: 0.8750\n",
      "Epoch 35/100\n",
      "45/45 [==============================] - 0s 697us/step - loss: 0.3283 - accuracy: 0.9054 - val_loss: 0.2770 - val_accuracy: 0.9194\n",
      "Epoch 36/100\n",
      "45/45 [==============================] - 0s 714us/step - loss: 0.2891 - accuracy: 0.9054 - val_loss: 0.3033 - val_accuracy: 0.9139\n",
      "Epoch 37/100\n",
      "45/45 [==============================] - 0s 696us/step - loss: 0.2161 - accuracy: 0.9353 - val_loss: 0.2370 - val_accuracy: 0.9111\n",
      "Epoch 38/100\n",
      "45/45 [==============================] - 0s 696us/step - loss: 0.1935 - accuracy: 0.9381 - val_loss: 0.3365 - val_accuracy: 0.9194\n",
      "Epoch 39/100\n",
      "45/45 [==============================] - 0s 678us/step - loss: 0.1995 - accuracy: 0.9402 - val_loss: 0.2846 - val_accuracy: 0.9111\n",
      "Epoch 40/100\n",
      "45/45 [==============================] - 0s 646us/step - loss: 0.2327 - accuracy: 0.9346 - val_loss: 0.2578 - val_accuracy: 0.9222\n",
      "Epoch 41/100\n",
      "45/45 [==============================] - 0s 644us/step - loss: 0.2000 - accuracy: 0.9367 - val_loss: 0.3018 - val_accuracy: 0.9083\n",
      "Epoch 42/100\n",
      "45/45 [==============================] - 0s 640us/step - loss: 0.2472 - accuracy: 0.9255 - val_loss: 0.4046 - val_accuracy: 0.8889\n",
      "Epoch 43/100\n",
      "45/45 [==============================] - 0s 648us/step - loss: 0.2976 - accuracy: 0.9109 - val_loss: 0.3842 - val_accuracy: 0.8861\n",
      "Epoch 44/100\n",
      "45/45 [==============================] - 0s 635us/step - loss: 0.2663 - accuracy: 0.9207 - val_loss: 0.3798 - val_accuracy: 0.8944\n",
      "Epoch 45/100\n",
      "45/45 [==============================] - 0s 651us/step - loss: 0.2875 - accuracy: 0.9074 - val_loss: 0.3796 - val_accuracy: 0.8861\n",
      "Epoch 46/100\n",
      "45/45 [==============================] - 0s 664us/step - loss: 0.4509 - accuracy: 0.8643 - val_loss: 0.4100 - val_accuracy: 0.8667\n",
      "Epoch 47/100\n",
      "45/45 [==============================] - 0s 674us/step - loss: 0.3435 - accuracy: 0.8991 - val_loss: 0.3605 - val_accuracy: 0.8889\n",
      "Epoch 48/100\n",
      "45/45 [==============================] - 0s 662us/step - loss: 0.3171 - accuracy: 0.9165 - val_loss: 0.3755 - val_accuracy: 0.8833\n",
      "Epoch 49/100\n",
      "45/45 [==============================] - 0s 681us/step - loss: 0.2578 - accuracy: 0.9241 - val_loss: 0.3097 - val_accuracy: 0.9056\n",
      "Epoch 50/100\n",
      "45/45 [==============================] - 0s 688us/step - loss: 0.2742 - accuracy: 0.9158 - val_loss: 0.3522 - val_accuracy: 0.8750\n",
      "Epoch 51/100\n",
      "45/45 [==============================] - 0s 671us/step - loss: 0.3316 - accuracy: 0.8970 - val_loss: 0.7126 - val_accuracy: 0.7861\n",
      "Epoch 52/100\n",
      "45/45 [==============================] - 0s 694us/step - loss: 0.4985 - accuracy: 0.8434 - val_loss: 0.6602 - val_accuracy: 0.8083\n",
      "Epoch 53/100\n",
      "45/45 [==============================] - 0s 640us/step - loss: 0.3135 - accuracy: 0.9068 - val_loss: 0.3667 - val_accuracy: 0.8778\n",
      "Epoch 54/100\n",
      "45/45 [==============================] - 0s 677us/step - loss: 0.3233 - accuracy: 0.8977 - val_loss: 0.3889 - val_accuracy: 0.8972\n",
      "Epoch 55/100\n",
      "45/45 [==============================] - 0s 659us/step - loss: 0.3858 - accuracy: 0.8775 - val_loss: 0.3893 - val_accuracy: 0.8694\n",
      "Epoch 56/100\n",
      "45/45 [==============================] - 0s 690us/step - loss: 0.3426 - accuracy: 0.8942 - val_loss: 0.4072 - val_accuracy: 0.8639\n",
      "Epoch 57/100\n",
      "45/45 [==============================] - 0s 675us/step - loss: 0.3061 - accuracy: 0.9033 - val_loss: 0.3034 - val_accuracy: 0.8889\n"
     ]
    },
    {
     "name": "stdout",
     "output_type": "stream",
     "text": [
      "Epoch 58/100\n",
      "45/45 [==============================] - 0s 679us/step - loss: 0.2849 - accuracy: 0.9158 - val_loss: 0.5326 - val_accuracy: 0.8500\n",
      "Epoch 59/100\n",
      "45/45 [==============================] - 0s 667us/step - loss: 0.4222 - accuracy: 0.8629 - val_loss: 0.5009 - val_accuracy: 0.8444\n",
      "Epoch 60/100\n",
      "45/45 [==============================] - 0s 651us/step - loss: 0.3661 - accuracy: 0.8824 - val_loss: 0.4304 - val_accuracy: 0.8611\n",
      "Epoch 61/100\n",
      "45/45 [==============================] - 0s 642us/step - loss: 0.2964 - accuracy: 0.9061 - val_loss: 0.3451 - val_accuracy: 0.9000\n",
      "Epoch 62/100\n",
      "45/45 [==============================] - 0s 642us/step - loss: 0.2448 - accuracy: 0.9221 - val_loss: 0.3810 - val_accuracy: 0.8722\n",
      "Epoch 63/100\n",
      "45/45 [==============================] - 0s 646us/step - loss: 0.2454 - accuracy: 0.9200 - val_loss: 0.2860 - val_accuracy: 0.9111\n",
      "Epoch 64/100\n",
      "45/45 [==============================] - 0s 647us/step - loss: 0.2442 - accuracy: 0.9207 - val_loss: 0.4239 - val_accuracy: 0.8778\n",
      "Epoch 65/100\n",
      "45/45 [==============================] - 0s 645us/step - loss: 0.2560 - accuracy: 0.9158 - val_loss: 0.3163 - val_accuracy: 0.9194\n",
      "Epoch 66/100\n",
      "45/45 [==============================] - 0s 638us/step - loss: 0.3117 - accuracy: 0.9172 - val_loss: 0.5820 - val_accuracy: 0.8444\n",
      "Epoch 67/100\n",
      "45/45 [==============================] - 0s 637us/step - loss: 0.3514 - accuracy: 0.8894 - val_loss: 0.3807 - val_accuracy: 0.8667\n",
      "Epoch 68/100\n",
      "45/45 [==============================] - 0s 626us/step - loss: 0.2585 - accuracy: 0.9186 - val_loss: 0.3190 - val_accuracy: 0.9028\n",
      "Epoch 69/100\n",
      "45/45 [==============================] - 0s 634us/step - loss: 0.2246 - accuracy: 0.9262 - val_loss: 0.3302 - val_accuracy: 0.9028\n",
      "Epoch 70/100\n",
      "45/45 [==============================] - 0s 622us/step - loss: 0.1748 - accuracy: 0.9492 - val_loss: 0.2857 - val_accuracy: 0.9361\n",
      "Epoch 71/100\n",
      "45/45 [==============================] - 0s 631us/step - loss: 0.1857 - accuracy: 0.9408 - val_loss: 0.3145 - val_accuracy: 0.9139\n",
      "Epoch 72/100\n",
      "45/45 [==============================] - 0s 618us/step - loss: 0.2103 - accuracy: 0.9325 - val_loss: 0.2792 - val_accuracy: 0.9056\n",
      "Epoch 73/100\n",
      "45/45 [==============================] - 0s 635us/step - loss: 0.2282 - accuracy: 0.9311 - val_loss: 0.2862 - val_accuracy: 0.9083\n",
      "Epoch 74/100\n",
      "45/45 [==============================] - 0s 638us/step - loss: 0.2228 - accuracy: 0.9318 - val_loss: 0.3116 - val_accuracy: 0.9000\n",
      "Epoch 75/100\n",
      "45/45 [==============================] - 0s 634us/step - loss: 0.2448 - accuracy: 0.9221 - val_loss: 0.3805 - val_accuracy: 0.8972\n",
      "Epoch 76/100\n",
      "45/45 [==============================] - 0s 638us/step - loss: 0.2193 - accuracy: 0.9297 - val_loss: 0.3396 - val_accuracy: 0.8944\n",
      "Epoch 77/100\n",
      "45/45 [==============================] - 0s 643us/step - loss: 0.2764 - accuracy: 0.9158 - val_loss: 0.4145 - val_accuracy: 0.8917\n",
      "Epoch 78/100\n",
      "45/45 [==============================] - 0s 619us/step - loss: 0.2875 - accuracy: 0.9123 - val_loss: 0.4457 - val_accuracy: 0.8944\n",
      "Epoch 79/100\n",
      "45/45 [==============================] - 0s 621us/step - loss: 0.2733 - accuracy: 0.9214 - val_loss: 0.5312 - val_accuracy: 0.8583\n",
      "Epoch 80/100\n",
      "45/45 [==============================] - 0s 645us/step - loss: 0.2140 - accuracy: 0.9374 - val_loss: 0.3382 - val_accuracy: 0.9278\n",
      "Epoch 81/100\n",
      "45/45 [==============================] - 0s 640us/step - loss: 0.1760 - accuracy: 0.9429 - val_loss: 0.2736 - val_accuracy: 0.9194\n",
      "Epoch 82/100\n",
      "45/45 [==============================] - 0s 621us/step - loss: 0.2294 - accuracy: 0.9186 - val_loss: 0.4358 - val_accuracy: 0.8583\n",
      "Epoch 83/100\n",
      "45/45 [==============================] - 0s 624us/step - loss: 0.3339 - accuracy: 0.8866 - val_loss: 0.3365 - val_accuracy: 0.9056\n",
      "Epoch 84/100\n",
      "45/45 [==============================] - 0s 636us/step - loss: 0.3050 - accuracy: 0.8942 - val_loss: 0.4260 - val_accuracy: 0.8722\n",
      "Epoch 85/100\n",
      "45/45 [==============================] - 0s 640us/step - loss: 0.2356 - accuracy: 0.9283 - val_loss: 0.5698 - val_accuracy: 0.8528\n",
      "Epoch 86/100\n",
      "45/45 [==============================] - 0s 621us/step - loss: 0.3236 - accuracy: 0.9012 - val_loss: 0.3829 - val_accuracy: 0.8750\n",
      "Epoch 87/100\n",
      "45/45 [==============================] - 0s 621us/step - loss: 0.4100 - accuracy: 0.8831 - val_loss: 0.3748 - val_accuracy: 0.9111\n",
      "Epoch 88/100\n",
      "45/45 [==============================] - 0s 646us/step - loss: 0.2939 - accuracy: 0.9088 - val_loss: 0.3809 - val_accuracy: 0.8778\n",
      "Epoch 89/100\n",
      "45/45 [==============================] - 0s 640us/step - loss: 0.2274 - accuracy: 0.9318 - val_loss: 0.3419 - val_accuracy: 0.9000\n",
      "Epoch 90/100\n",
      "45/45 [==============================] - 0s 616us/step - loss: 0.2879 - accuracy: 0.9165 - val_loss: 0.4544 - val_accuracy: 0.8722\n",
      "Epoch 91/100\n",
      "45/45 [==============================] - 0s 635us/step - loss: 0.2283 - accuracy: 0.9283 - val_loss: 0.3041 - val_accuracy: 0.9139\n",
      "Epoch 92/100\n",
      "45/45 [==============================] - 0s 643us/step - loss: 0.1980 - accuracy: 0.9429 - val_loss: 0.2389 - val_accuracy: 0.9139\n",
      "Epoch 93/100\n",
      "45/45 [==============================] - 0s 633us/step - loss: 0.2193 - accuracy: 0.9248 - val_loss: 0.3547 - val_accuracy: 0.8722\n",
      "Epoch 94/100\n",
      "45/45 [==============================] - 0s 619us/step - loss: 0.2113 - accuracy: 0.9415 - val_loss: 0.2640 - val_accuracy: 0.9361\n",
      "Epoch 95/100\n",
      "45/45 [==============================] - 0s 629us/step - loss: 0.2244 - accuracy: 0.9297 - val_loss: 0.3034 - val_accuracy: 0.9028\n",
      "Epoch 96/100\n",
      "45/45 [==============================] - 0s 639us/step - loss: 0.2252 - accuracy: 0.9255 - val_loss: 0.4318 - val_accuracy: 0.8694\n",
      "Epoch 97/100\n",
      "45/45 [==============================] - 0s 636us/step - loss: 0.2972 - accuracy: 0.9068 - val_loss: 0.4156 - val_accuracy: 0.8917\n",
      "Epoch 98/100\n",
      "45/45 [==============================] - 0s 624us/step - loss: 0.2533 - accuracy: 0.9193 - val_loss: 0.3291 - val_accuracy: 0.9056\n",
      "Epoch 99/100\n",
      "45/45 [==============================] - 0s 637us/step - loss: 0.2343 - accuracy: 0.9241 - val_loss: 0.3206 - val_accuracy: 0.9167\n",
      "Epoch 100/100\n",
      "45/45 [==============================] - 0s 639us/step - loss: 0.2597 - accuracy: 0.9172 - val_loss: 0.5733 - val_accuracy: 0.7889\n",
      "12/12 [==============================] - 0s 292us/step\n"
     ]
    }
   ],
   "source": [
    "model_history=model.fit(x=X_train, y=y_train, epochs=100, batch_size=32,validation_data= (X_test,y_test))\n",
    "y_pred = model.predict(X_test)\n",
    "\n",
    "y_test_class = np.argmax(y_test,axis=1)\n",
    "y_pred_class = np.argmax(y_pred,axis=1)"
   ]
  },
  {
   "cell_type": "code",
   "execution_count": 139,
   "id": "7a7f1f4d",
   "metadata": {},
   "outputs": [
    {
     "data": {
      "image/png": "[encoded data removed]",
      "text/plain": [
       "<Figure size 640x480 with 1 Axes>"
      ]
     },
     "metadata": {},
     "output_type": "display_data"
    }
   ],
   "source": [
    "import matplotlib.pyplot as plt\n",
    "import seaborn as sns\n",
    "\n",
    "loss =model_history.history['loss']\n",
    "val_loss =model_history.history['val_loss']\n",
    "epochs = range(1, len(loss) + 1)\n",
    "plt.plot(epochs, loss, 'y', label='Training loss')\n",
    "plt.plot(epochs, val_loss, 'r', label='Validation loss')\n",
    "plt.title('Training and validation loss')\n",
    "plt.xlabel('Epochs')\n",
    "plt.ylabel('Loss')\n",
    "plt.legend()\n",
    "plt.show()"
   ]
  },
  {
   "cell_type": "code",
   "execution_count": 140,
   "id": "89fa5281",
   "metadata": {},
   "outputs": [],
   "source": [
    "from sklearn.neighbors import KNeighborsClassifier\n",
    "knn = KNeighborsClassifier(n_neighbors=6)"
   ]
  },
  {
   "cell_type": "code",
   "execution_count": 141,
   "id": "e6d9be6d",
   "metadata": {},
   "outputs": [
    {
     "data": {
      "text/html": [
       "<style>#sk-container-id-6 {color: black;background-color: white;}#sk-container-id-6 pre{padding: 0;}#sk-container-id-6 div.sk-toggleable {background-color: white;}#sk-container-id-6 label.sk-toggleable__label {cursor: pointer;display: block;width: 100%;margin-bottom: 0;padding: 0.3em;box-sizing: border-box;text-align: center;}#sk-container-id-6 label.sk-toggleable__label-arrow:before {content: \"▸\";float: left;margin-right: 0.25em;color: #696969;}#sk-container-id-6 label.sk-toggleable__label-arrow:hover:before {color: black;}#sk-container-id-6 div.sk-estimator:hover label.sk-toggleable__label-arrow:before {color: black;}#sk-container-id-6 div.sk-toggleable__content {max-height: 0;max-width: 0;overflow: hidden;text-align: left;background-color: #f0f8ff;}#sk-container-id-6 div.sk-toggleable__content pre {margin: 0.2em;color: black;border-radius: 0.25em;background-color: #f0f8ff;}#sk-container-id-6 input.sk-toggleable__control:checked~div.sk-toggleable__content {max-height: 200px;max-width: 100%;overflow: auto;}#sk-container-id-6 input.sk-toggleable__control:checked~label.sk-toggleable__label-arrow:before {content: \"▾\";}#sk-container-id-6 div.sk-estimator input.sk-toggleable__control:checked~label.sk-toggleable__label {background-color: #d4ebff;}#sk-container-id-6 div.sk-label input.sk-toggleable__control:checked~label.sk-toggleable__label {background-color: #d4ebff;}#sk-container-id-6 input.sk-hidden--visually {border: 0;clip: rect(1px 1px 1px 1px);clip: rect(1px, 1px, 1px, 1px);height: 1px;margin: -1px;overflow: hidden;padding: 0;position: absolute;width: 1px;}#sk-container-id-6 div.sk-estimator {font-family: monospace;background-color: #f0f8ff;border: 1px dotted black;border-radius: 0.25em;box-sizing: border-box;margin-bottom: 0.5em;}#sk-container-id-6 div.sk-estimator:hover {background-color: #d4ebff;}#sk-container-id-6 div.sk-parallel-item::after {content: \"\";width: 100%;border-bottom: 1px solid gray;flex-grow: 1;}#sk-container-id-6 div.sk-label:hover label.sk-toggleable__label {background-color: #d4ebff;}#sk-container-id-6 div.sk-serial::before {content: \"\";position: absolute;border-left: 1px solid gray;box-sizing: border-box;top: 0;bottom: 0;left: 50%;z-index: 0;}#sk-container-id-6 div.sk-serial {display: flex;flex-direction: column;align-items: center;background-color: white;padding-right: 0.2em;padding-left: 0.2em;position: relative;}#sk-container-id-6 div.sk-item {position: relative;z-index: 1;}#sk-container-id-6 div.sk-parallel {display: flex;align-items: stretch;justify-content: center;background-color: white;position: relative;}#sk-container-id-6 div.sk-item::before, #sk-container-id-6 div.sk-parallel-item::before {content: \"\";position: absolute;border-left: 1px solid gray;box-sizing: border-box;top: 0;bottom: 0;left: 50%;z-index: -1;}#sk-container-id-6 div.sk-parallel-item {display: flex;flex-direction: column;z-index: 1;position: relative;background-color: white;}#sk-container-id-6 div.sk-parallel-item:first-child::after {align-self: flex-end;width: 50%;}#sk-container-id-6 div.sk-parallel-item:last-child::after {align-self: flex-start;width: 50%;}#sk-container-id-6 div.sk-parallel-item:only-child::after {width: 0;}#sk-container-id-6 div.sk-dashed-wrapped {border: 1px dashed gray;margin: 0 0.4em 0.5em 0.4em;box-sizing: border-box;padding-bottom: 0.4em;background-color: white;}#sk-container-id-6 div.sk-label label {font-family: monospace;font-weight: bold;display: inline-block;line-height: 1.2em;}#sk-container-id-6 div.sk-label-container {text-align: center;}#sk-container-id-6 div.sk-container {/* jupyter's `normalize.less` sets `[hidden] { display: none; }` but bootstrap.min.css set `[hidden] { display: none !important; }` so we also need the `!important` here to be able to override the default hidden behavior on the sphinx rendered scikit-learn.org. See: https://github.com/scikit-learn/scikit-learn/issues/21755 */display: inline-block !important;position: relative;}#sk-container-id-6 div.sk-text-repr-fallback {display: none;}</style><div id=\"sk-container-id-6\" class=\"sk-top-container\"><div class=\"sk-text-repr-fallback\"><pre>KNeighborsClassifier(n_neighbors=6)</pre><b>In a Jupyter environment, please rerun this cell to show the HTML representation or trust the notebook. <br />On GitHub, the HTML representation is unable to render, please try loading this page with nbviewer.org.</b></div><div class=\"sk-container\" hidden><div class=\"sk-item\"><div class=\"sk-estimator sk-toggleable\"><input class=\"sk-toggleable__control sk-hidden--visually\" id=\"sk-estimator-id-6\" type=\"checkbox\" checked><label for=\"sk-estimator-id-6\" class=\"sk-toggleable__label sk-toggleable__label-arrow\">KNeighborsClassifier</label><div class=\"sk-toggleable__content\"><pre>KNeighborsClassifier(n_neighbors=6)</pre></div></div></div></div></div>"
      ],
      "text/plain": [
       "KNeighborsClassifier(n_neighbors=6)"
      ]
     },
     "execution_count": 141,
     "metadata": {},
     "output_type": "execute_result"
    }
   ],
   "source": [
    "knn.fit(X_train, y_train)"
   ]
  },
  {
   "cell_type": "code",
   "execution_count": 142,
   "id": "28a52202",
   "metadata": {},
   "outputs": [
    {
     "name": "stdout",
     "output_type": "stream",
     "text": [
      "0.9777777777777777\n"
     ]
    }
   ],
   "source": [
    "y_pred = knn.predict(X_test)\n",
    "scores = metrics.accuracy_score(y_test, y_pred)\n",
    "print(scores)"
   ]
  }
 ],
 "metadata": {
  "kernelspec": {
   "display_name": "Python 3 (ipykernel)",
   "language": "python",
   "name": "python3"
  },
  "language_info": {
   "codemirror_mode": {
    "name": "ipython",
    "version": 3
   },
   "file_extension": ".py",
   "mimetype": "text/x-python",
   "name": "python",
   "nbconvert_exporter": "python",
   "pygments_lexer": "ipython3",
   "version": "3.8.16"
  }
 },
 "nbformat": 4,
 "nbformat_minor": 5
}
